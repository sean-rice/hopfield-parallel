{
  "nbformat": 4,
  "nbformat_minor": 0,
  "metadata": {
    "colab": {
      "name": "hopfield-colab.ipynb",
      "provenance": [],
      "collapsed_sections": []
    },
    "kernelspec": {
      "name": "python3",
      "display_name": "Python 3"
    },
    "accelerator": "GPU"
  },
  "cells": [
    {
      "cell_type": "code",
      "metadata": {
        "id": "UGQIRNoCDR_l",
        "colab_type": "code",
        "colab": {
          "base_uri": "https://localhost:8080/",
          "height": 173
        },
        "outputId": "b8b2aeea-4531-4de8-a907-ad40a36dd4a9"
      },
      "source": [
        "%cd /content/\n",
        "!rm -rf /content/sample_data /content/hopfield-parallel\n",
        "!git clone https://github.com/sean-rice/hopfield-parallel.git\n",
        "!pip install meson ninja"
      ],
      "execution_count": 1,
      "outputs": [
        {
          "output_type": "stream",
          "text": [
            "/content\n",
            "Cloning into 'hopfield-parallel'...\n",
            "remote: Enumerating objects: 67, done.\u001b[K\n",
            "remote: Counting objects: 100% (67/67), done.\u001b[K\n",
            "remote: Compressing objects: 100% (48/48), done.\u001b[K\n",
            "remote: Total 67 (delta 23), reused 59 (delta 15), pack-reused 0\u001b[K\n",
            "Unpacking objects: 100% (67/67), done.\n",
            "Requirement already satisfied: meson in /usr/local/lib/python3.6/dist-packages (0.52.1)\n",
            "Requirement already satisfied: ninja in /usr/local/lib/python3.6/dist-packages (1.9.0.post1)\n"
          ],
          "name": "stdout"
        }
      ]
    },
    {
      "cell_type": "code",
      "metadata": {
        "id": "joxSBDdqNolv",
        "colab_type": "code",
        "colab": {
          "base_uri": "https://localhost:8080/",
          "height": 52
        },
        "outputId": "ee5b7498-8bd5-46e2-e4ac-06b3a066c6ab"
      },
      "source": [
        "%cd /content/hopfield-parallel\n",
        "!git pull"
      ],
      "execution_count": 2,
      "outputs": [
        {
          "output_type": "stream",
          "text": [
            "/content/hopfield-parallel\n",
            "Already up to date.\n"
          ],
          "name": "stdout"
        }
      ]
    },
    {
      "cell_type": "code",
      "metadata": {
        "id": "JCtUP9ItDfPT",
        "colab_type": "code",
        "colab": {
          "base_uri": "https://localhost:8080/",
          "height": 347
        },
        "outputId": "57f1949d-8a0e-40b7-ca3c-3a72d404f8ac"
      },
      "source": [
        "%cd /content/hopfield-parallel/hopfield-cuda\n",
        "!meson build ; cd ./build ; ninja"
      ],
      "execution_count": 3,
      "outputs": [
        {
          "output_type": "stream",
          "text": [
            "/content/hopfield-parallel/hopfield-cuda\n",
            "\u001b[1mThe Meson build system\u001b[0m\n",
            "Version: 0.52.1\n",
            "Source dir: \u001b[1m/content/hopfield-parallel/hopfield-cuda\u001b[0m\n",
            "Build dir: \u001b[1m/content/hopfield-parallel/hopfield-cuda/build\u001b[0m\n",
            "Build type: \u001b[1mnative build\u001b[0m\n",
            "Project name: \u001b[1mhopfield-cuda\u001b[0m\n",
            "Project version: \u001b[1mundefined\u001b[0m\n",
            "C compiler for the host machine: \u001b[1mcc\u001b[0m (gcc 7.4.0 \"cc (Ubuntu 7.4.0-1ubuntu1~18.04.1) 7.4.0\")\n",
            "C linker for the host machine: \u001b[1mGNU ld.bfd\u001b[0m 2.30\n",
            "Host machine cpu family: \u001b[1mx86_64\u001b[0m\n",
            "Host machine cpu: \u001b[1mx86_64\u001b[0m\n",
            "\u001b[1;33mWARNING:\u001b[0m Consider using the builtin warning_level option instead of adding warning flags by hand.\n",
            "Library \u001b[1mm\u001b[0m found: \u001b[1;32mYES\u001b[0m\n",
            "Cuda compiler for the host machine: \u001b[1mnvcc\u001b[0m (nvcc 10.0.130)\n",
            "Cuda linker for the host machine: \u001b[1mnvlink\u001b[0m 10.0.130\n",
            "Build targets in project: \u001b[1m2\u001b[0m\n",
            "Found ninja-1.9.0.git.kitware.dyndep-1.jobserver-1 at /usr/local/bin/ninja\n",
            "[12/12] Linking target maincuda.\u001b[K\n"
          ],
          "name": "stdout"
        }
      ]
    },
    {
      "cell_type": "code",
      "metadata": {
        "id": "n8FtopbcDYXc",
        "colab_type": "code",
        "colab": {
          "base_uri": "https://localhost:8080/",
          "height": 1000
        },
        "outputId": "237d0e89-4ac4-471c-c211-7263e2ec355c"
      },
      "source": [
        "!echo $'/content/3_noisy.pattern\\n!' | /content/hopfield-parallel/hopfield-cuda/build/main /content/weights.dat\n",
        "!echo '=================================================='\n",
        "!echo $'/content/3_noisy.pattern\\n!' | /content/hopfield-parallel/hopfield-cuda/build/maincuda /content/weights.dat"
      ],
      "execution_count": 4,
      "outputs": [
        {
          "output_type": "stream",
          "text": [
            "net_ok: true\n",
            "path to pattern (! to quit): pattern_ok: true\n",
            " --------------------------------------------------------\n",
            "|              ##  ##    ##########        ##  ####      |\n",
            "|##    ##        ####  ####  ##  ########        ##    ##|\n",
            "|    ##        ##    ##  ##  ####      ##        ####    |\n",
            "|##  ##      ####  ##########  ##    ####    ########  ##|\n",
            "|    ##  ####    ####  ####    ##  ####  ##  ######    ##|\n",
            "|######  ##  ##  ##  ########  ######    ##    ##      ##|\n",
            "|  ##  ##    ######  ##  ######            ##        ####|\n",
            "|##  ######    ####  ############        ##        ##    |\n",
            "|##                    ####  ##  ########    ##          |\n",
            "|          ####  ##  ##########    ####            ####  |\n",
            "|####  ####  ####  ####    ##  ####    ######            |\n",
            "|######  ####      ##                          ##        |\n",
            "|##        ##      ##    ##  ##########          ##      |\n",
            "|##      ##        ######  ##  ########  ##  ##    ##    |\n",
            "|##  ##    ##    ####  ##  ##  ##                ##  ##  |\n",
            "|##  ####          ##    ##                      ##      |\n",
            "|        ##          ##  ####      ##  ##    ##      ####|\n",
            "|      ##          ####    ##                ##  ####  ##|\n",
            "|##  ####      ##  ##        ##  ####  ##  ####      ####|\n",
            "|      ##    ##      ##        ##    ##  ####    ##      |\n",
            "|##    ######  ######  ##      ##    ######        ####  |\n",
            "|    ####  ##        ######    ####  ####      ##  ##    |\n",
            "|####  ##      ##  ########  ####          ##            |\n",
            "|##  ##  ##  ##        ######  ####  ##  ##    ####      |\n",
            "|  ####  ##  ##        ######    ####                    |\n",
            "|####    ##  ##      ####      ######  ####  ######    ##|\n",
            "|##  ######    ##      ##  ##        ##  ####      ######|\n",
            "|##      ##    ############  ##  ##    ##    ##    ######|\n",
            " --------------------------------------------------------\n",
            "retrieved_ok: true\n",
            " --------------------------------------------------------\n",
            "|                                                        |\n",
            "|                                                        |\n",
            "|                                                        |\n",
            "|                                                        |\n",
            "|                                                        |\n",
            "|                        ####                            |\n",
            "|                  ##################                    |\n",
            "|                ####################                    |\n",
            "|              ##############    ######                  |\n",
            "|                ############  ########                  |\n",
            "|                        ####  ######                    |\n",
            "|                          ########                      |\n",
            "|                        ##########                      |\n",
            "|                    ##################                  |\n",
            "|                  ##########################            |\n",
            "|                  ########            ########          |\n",
            "|                                          ####          |\n",
            "|                                        ######          |\n",
            "|                                      ########          |\n",
            "|                                    ########            |\n",
            "|                ########          ########              |\n",
            "|                ######          ########                |\n",
            "|                ####################                    |\n",
            "|                  ################                      |\n",
            "|                      ########                          |\n",
            "|                                                        |\n",
            "|                                                        |\n",
            "|                                                        |\n",
            " --------------------------------------------------------\n",
            "time: 0.004512\n",
            "path to pattern (! to quit): done!\n",
            "==================================================\n",
            "net_ok: true\n",
            "path to pattern (! to quit): pattern_ok: true\n",
            " --------------------------------------------------------\n",
            "|              ##  ##    ##########        ##  ####      |\n",
            "|##    ##        ####  ####  ##  ########        ##    ##|\n",
            "|    ##        ##    ##  ##  ####      ##        ####    |\n",
            "|##  ##      ####  ##########  ##    ####    ########  ##|\n",
            "|    ##  ####    ####  ####    ##  ####  ##  ######    ##|\n",
            "|######  ##  ##  ##  ########  ######    ##    ##      ##|\n",
            "|  ##  ##    ######  ##  ######            ##        ####|\n",
            "|##  ######    ####  ############        ##        ##    |\n",
            "|##                    ####  ##  ########    ##          |\n",
            "|          ####  ##  ##########    ####            ####  |\n",
            "|####  ####  ####  ####    ##  ####    ######            |\n",
            "|######  ####      ##                          ##        |\n",
            "|##        ##      ##    ##  ##########          ##      |\n",
            "|##      ##        ######  ##  ########  ##  ##    ##    |\n",
            "|##  ##    ##    ####  ##  ##  ##                ##  ##  |\n",
            "|##  ####          ##    ##                      ##      |\n",
            "|        ##          ##  ####      ##  ##    ##      ####|\n",
            "|      ##          ####    ##                ##  ####  ##|\n",
            "|##  ####      ##  ##        ##  ####  ##  ####      ####|\n",
            "|      ##    ##      ##        ##    ##  ####    ##      |\n",
            "|##    ######  ######  ##      ##    ######        ####  |\n",
            "|    ####  ##        ######    ####  ####      ##  ##    |\n",
            "|####  ##      ##  ########  ####          ##            |\n",
            "|##  ##  ##  ##        ######  ####  ##  ##    ####      |\n",
            "|  ####  ##  ##        ######    ####                    |\n",
            "|####    ##  ##      ####      ######  ####  ######    ##|\n",
            "|##  ######    ##      ##  ##        ##  ####      ######|\n",
            "|##      ##    ############  ##  ##    ##    ##    ######|\n",
            " --------------------------------------------------------\n",
            "retrieved_ok: true\n",
            " --------------------------------------------------------\n",
            "|                                                        |\n",
            "|                                                        |\n",
            "|                                                        |\n",
            "|                                                        |\n",
            "|                                                        |\n",
            "|                        ####                            |\n",
            "|                  ##################                    |\n",
            "|                ####################                    |\n",
            "|              ##############    ######                  |\n",
            "|                ############  ########                  |\n",
            "|                        ####  ######                    |\n",
            "|                          ########                      |\n",
            "|                        ##########                      |\n",
            "|                    ##################                  |\n",
            "|                  ##########################            |\n",
            "|                  ########            ########          |\n",
            "|                                          ####          |\n",
            "|                                        ######          |\n",
            "|                                      ########          |\n",
            "|                                    ########            |\n",
            "|                ########          ########              |\n",
            "|                ######          ########                |\n",
            "|                ####################                    |\n",
            "|                  ################                      |\n",
            "|                      ########                          |\n",
            "|                                                        |\n",
            "|                                                        |\n",
            "|                                                        |\n",
            " --------------------------------------------------------\n",
            "time: 0.695474\n",
            "path to pattern (! to quit): done!\n"
          ],
          "name": "stdout"
        }
      ]
    },
    {
      "cell_type": "code",
      "metadata": {
        "id": "gHIXWHiI2bIF",
        "colab_type": "code",
        "colab": {}
      },
      "source": [
        ""
      ],
      "execution_count": 0,
      "outputs": []
    }
  ]
}