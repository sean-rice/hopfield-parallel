{
 "cells": [
  {
   "cell_type": "markdown",
   "execution_count": null,
   "metadata": {},
   "outputs": [],
   "source": [
    "# Hopfield Networks in Python, C, CUDA"
   ]
  },
  {
   "cell_type": "markdown",
   "execution_count": null,
   "metadata": {},
   "outputs": [],
   "source": [
    "## Imports"
   ]
  },
  {
   "cell_type": "code",
   "execution_count": 1,
   "metadata": {},
   "outputs": [],
   "source": [
    "import copy\n",
    "import ctypes\n",
    "import io\n",
    "import itertools\n",
    "import os\n",
    "import pathlib\n",
    "import random\n",
    "import struct\n",
    "import sys\n",
    "\n",
    "import torch\n",
    "import torchvision\n",
    "from PIL import Image\n",
    "import numpy as np\n",
    "\n",
    "from typing import Any, Dict, Iterable, List, Optional, Union"
   ]
  },
  {
   "cell_type": "code",
   "execution_count": 2,
   "metadata": {},
   "outputs": [],
   "source": [
    "try:\n",
    "    from hopfield_python import hopfield\n",
    "except:\n",
    "    __ok = False\n",
    "    import os\n",
    "    sys.path.append(os.getcwd() + \"/hopfield-python\")\n",
    "    try:\n",
    "        from hopfield_python import hopfield\n",
    "        __ok = True\n",
    "    except:\n",
    "        pass\n",
    "    if __ok is False: raise\n",
    "\n",
    "from hopfield_python.hopfield import (\n",
    "    HopfieldPattern,\n",
    "    HopfieldNetwork,\n",
    "    image_to_binarized_transform,\n",
    "    binarized_to_image_transform,\n",
    "    salt_pepper,\n",
    "    blackout,\n",
    "    make_batch,\n",
    "    tmerge,\n",
    "    image_grid,\n",
    "    find_data\n",
    ")"
   ]
  },
  {
   "cell_type": "markdown",
   "execution_count": null,
   "metadata": {},
   "outputs": [],
   "source": [
    "## The MNIST Dataset"
   ]
  },
  {
   "cell_type": "code",
   "execution_count": 3,
   "metadata": {},
   "outputs": [],
   "source": [
    "mnist_train, mnist_test = hopfield._get_mnist()"
   ]
  },
  {
   "cell_type": "code",
   "execution_count": 4,
   "metadata": {},
   "outputs": [
    {
     "data": {
      "image/png": "[encoded data removed]",
      "text/plain": "<PIL.Image.Image image mode=RGB size=262x262 at 0x10FF4F450>"
     },
     "metadata": {},
     "output_type": "display_data"
    }
   ],
   "source": [
    "def display_binarization_example(dataset, i, size=128):\n",
    "    images = []\n",
    "    if not hasattr(i, \"__len__\"):\n",
    "        indices = [i]\n",
    "    else:\n",
    "        indices = i\n",
    "    for i in indices:\n",
    "        a = dataset[i][0]\n",
    "        images.append(a.resize((size, size), Image.NEAREST))\n",
    "        ta = image_to_binarized_transform(a)\n",
    "        images.append(binarized_to_image_transform((28, 28))(ta).resize((128, 128), Image.NEAREST))\n",
    "    \n",
    "    display(image_grid(images, border=2, w=size, h=size, nx=2, ny=len(indices), bkg=128))\n",
    "\n",
    "display_binarization_example(mnist_train, [10000, 10002])"
   ]
  },
  {
   "cell_type": "markdown",
   "execution_count": null,
   "metadata": {},
   "outputs": [],
   "source": [
    "## Creating and Training the Network"
   ]
  },
  {
   "cell_type": "code",
   "execution_count": 5,
   "metadata": {},
   "outputs": [
    {
     "data": {
      "text/plain": "'net size: 784'"
     },
     "metadata": {},
     "output_type": "display_data"
    },
    {
     "name": "stdout",
     "output_type": "stream",
     "text": "Help on method fit in module hopfield_python.hopfield:\n\nfit(X: torch.Tensor) -> torch.Tensor method of hopfield_python.hopfield.HopfieldNetwork instance\n    Train the Hopfield Network.\n    \n    X: A `torch.Tensor` with shape `(B, N)`, where `N == self.size` and `B` is the number of examples to imprint.\n    \n    Returns: A weight matrix W of the trained Hopfield network. Also sets the `weights` matrix of the network to this matrix.\n\n"
    }
   ],
   "source": [
    "data_dim = image_to_binarized_transform(mnist_train[0][0]).numel()\n",
    "net = hopfield.HopfieldNetwork(data_dim)\n",
    "display(f\"net size: {net.size}\")\n",
    "help(net.fit)"
   ]
  },
  {
   "cell_type": "code",
   "execution_count": 6,
   "metadata": {},
   "outputs": [
    {
     "data": {
      "text/plain": "'Training set:'"
     },
     "metadata": {},
     "output_type": "display_data"
    },
    {
     "data": {
      "image/png": "[encoded data removed]",
      "text/plain": "<PIL.Image.Image image mode=RGB size=32x62 at 0x12803AA90>"
     },
     "metadata": {},
     "output_type": "display_data"
    }
   ],
   "source": [
    "ex_per_label = 1\n",
    "ex_labels = [3, 5]\n",
    "train_set = find_data(mnist_train, ex_labels, examples_per_label=ex_per_label, random_seed=6, skip_p=0.5)\n",
    "train_images = [mnist_train[i][0] for k in train_set.keys() for i in train_set[k]]\n",
    "display(\"Training set:\")\n",
    "display(image_grid(train_images, border=2, w=28, h=28, nx=ex_per_label, ny=len(ex_labels), bkg=128))"
   ]
  },
  {
   "cell_type": "code",
   "execution_count": 7,
   "metadata": {},
   "outputs": [
    {
     "data": {
      "text/plain": "tensor([[0.0000, 0.0026, 0.0026,  ..., 0.0026, 0.0026, 0.0026],\n        [0.0026, 0.0000, 0.0026,  ..., 0.0026, 0.0026, 0.0026],\n        [0.0026, 0.0026, 0.0000,  ..., 0.0026, 0.0026, 0.0026],\n        ...,\n        [0.0026, 0.0026, 0.0026,  ..., 0.0000, 0.0026, 0.0026],\n        [0.0026, 0.0026, 0.0026,  ..., 0.0026, 0.0000, 0.0026],\n        [0.0026, 0.0026, 0.0026,  ..., 0.0026, 0.0026, 0.0000]])"
     },
     "execution_count": 7,
     "metadata": {},
     "output_type": "execute_result"
    }
   ],
   "source": [
    "train_tensor = make_batch(train_images)\n",
    "net.fit(train_tensor)"
   ]
  },
  {
   "cell_type": "markdown",
   "metadata": {},
   "outputs": [],
   "source": [
    "## Testing the Network"
   ]
  },
  {
   "cell_type": "markdown",
   "metadata": {},
   "outputs": [],
   "source": [
    "### Initial setup, copy/export training examples"
   ]
  },
  {
   "cell_type": "code",
   "execution_count": 8,
   "metadata": {},
   "outputs": [],
   "source": [
    "ex_per_label = 1\n",
    "ex_labels = [3, 5]\n",
    "test_set = find_data(mnist_train, ex_labels, examples_per_label=ex_per_label, random_seed=6, skip_p=0.5)\n",
    "test_images = [mnist_train[i][0] for k in test_set.keys() for i in test_set[k]]\n",
    "HopfieldPattern.from_image(test_images[0]).export(\"./3_ok.pattern\")\n",
    "HopfieldPattern.from_image(test_images[1]).export(\"./5_ok.pattern\")"
   ]
  },
  {
   "cell_type": "code",
   "execution_count": 9,
   "metadata": {},
   "outputs": [],
   "source": [
    "def corrupt_and_retrieve(net: HopfieldNetwork, corruption_fn: Any, images: Iterable):\n",
    "    \"\"\"\n",
    "    Corrupt a set of `Image`s with a `corruption_fn`, then run retrieval with a `net`.\n",
    "\n",
    "    Returns: a list corrupt `Image`s and a corresponding list of retrieved `Image`s.\n",
    "    \"\"\"\n",
    "    corrupt_images = list(map(corruption_fn, images))\n",
    "    corrupt_batch = make_batch(corrupt_images)\n",
    "    retrievals = net.forward(corrupt_batch)\n",
    "    retrieved_images = list(map(binarized_to_image_transform((28, 28)), retrievals))\n",
    "    return corrupt_images, retrieved_images\n"
   ]
  },
  {
   "cell_type": "markdown",
   "metadata": {},
   "outputs": [],
   "source": [
    "### Creating noisy examples"
   ]
  },
  {
   "cell_type": "code",
   "execution_count": 10,
   "metadata": {},
   "outputs": [
    {
     "data": {
      "text/plain": "'original, noisy, retrieved'"
     },
     "metadata": {},
     "output_type": "display_data"
    },
    {
     "data": {
      "image/png": "[encoded data removed]",
      "text/plain": "<PIL.Image.Image image mode=RGB size=92x62 at 0x12B5F2550>"
     },
     "execution_count": 10,
     "metadata": {},
     "output_type": "execute_result"
    }
   ],
   "source": [
    "noisy_fn = lambda img: Image.fromarray(salt_pepper(np.array(img), prob=0.4))\n",
    "noisy_images, noisy_retrieved = corrupt_and_retrieve(net, noisy_fn, test_images)\n",
    "display(\"original, noisy, retrieved\")\n",
    "image_grid(tmerge(test_images, noisy_images, noisy_retrieved), border=2, w=28, h=28, nx=3, ny=ex_per_label*len(test_set), bkg=128)"
   ]
  },
  {
   "cell_type": "markdown",
   "metadata": {},
   "outputs": [],
   "source": [
    "### Creating blacked-out examples"
   ]
  },
  {
   "cell_type": "code",
   "execution_count": 11,
   "metadata": {},
   "outputs": [
    {
     "data": {
      "text/plain": "'original, noisy, retrieved'"
     },
     "metadata": {},
     "output_type": "display_data"
    },
    {
     "data": {
      "image/png": "[encoded data removed]",
      "text/plain": "<PIL.Image.Image image mode=RGB size=92x62 at 0x12B5F2C90>"
     },
     "execution_count": 11,
     "metadata": {},
     "output_type": "execute_result"
    }
   ],
   "source": [
    "blackout_fn = lambda img: Image.fromarray(blackout(np.array(img), (0, 14, 28, 28)))\n",
    "blackout_images, blackout_retrieved = corrupt_and_retrieve(net, blackout_fn, test_images)\n",
    "display(\"original, noisy, retrieved\")\n",
    "image_grid(tmerge(test_images, blackout_images, blackout_retrieved), border=2, w=28, h=28, nx=3, ny=ex_per_label*len(test_set), bkg=128)"
   ]
  },
  {
   "cell_type": "markdown",
   "metadata": {},
   "outputs": [],
   "source": [
    "## Exporting the Data"
   ]
  },
  {
   "cell_type": "code",
   "execution_count": 13,
   "metadata": {},
   "outputs": [],
   "source": [
    "net.export(\"./weights.dat\")\n",
    "\n",
    "HopfieldPattern.from_image(noisy_images[0]).export(\"./3_noisy.pattern\")\n",
    "HopfieldPattern.from_image(noisy_images[1]).export(\"./5_noisy.pattern\")\n",
    "HopfieldPattern.from_image(blackout_images[0]).export(\"./3_blackout.pattern\")\n",
    "HopfieldPattern.from_image(blackout_images[1]).export(\"./5_blackout.pattern\")\n"
   ]
  },
  {
   "cell_type": "code",
   "metadata": {},
   "outputs": [],
   "source": []
  },
  {
   "cell_type": "markdown",
   "metadata": {},
   "outputs": [],
   "source": [
    "### Debug weights matrix\n",
    "Creates a \"striped\" weights matrix that is helpful for debugging, wherein\n",
    "each weight w\\[i, j\\] = i + j/1000 ; the floating-point values of the\n",
    "weights can be read as {row#}.{column#}."
   ]
  },
  {
   "cell_type": "code",
   "execution_count": 15,
   "metadata": {},
   "outputs": [
    {
     "data": {
      "text/plain": "1.783"
     },
     "metadata": {},
     "output_type": "display_data"
    }
   ],
   "source": [
    "__net = HopfieldNetwork(784)\n",
    "w = [[float(row) + float(col)/1000.0 for col in range(0, 784)] for row in range(0, 784)]\n",
    "display(w[1][783])\n",
    "w = torch.tensor(w)\n",
    "__net.weights = w\n",
    "__net.export(\"./weights-striped.dat\")"
   ]
  },
  {
   "cell_type": "code",
   "metadata": {},
   "outputs": [],
   "source": []
  },
  {
   "cell_type": "code",
   "metadata": {},
   "outputs": [],
   "source": []
  },
  {
   "cell_type": "code",
   "metadata": {},
   "outputs": [],
   "source": []
  },
  {
   "cell_type": "code",
   "metadata": {},
   "outputs": [],
   "source": []
  },
  {
   "cell_type": "code",
   "metadata": {},
   "outputs": [],
   "source": []
  },
  {
   "cell_type": "code",
   "metadata": {},
   "outputs": [],
   "source": []
  }
 ],
 "metadata": {
  "kernelspec": {
   "display_name": "Python 3",
   "language": "python",
   "name": "python3"
  },
  "language_info": {
   "codemirror_mode": {
    "name": "ipython",
    "version": 3
   },
   "file_extension": ".py",
   "mimetype": "text/x-python",
   "name": "python",
   "nbconvert_exporter": "python",
   "pygments_lexer": "ipython3",
   "version": "3.7.5"
  }
 },
 "nbformat": 4,
 "nbformat_minor": 4
}